{
 "cells": [
  {
   "cell_type": "code",
   "execution_count": 2,
   "id": "c016904f",
   "metadata": {
    "ExecuteTime": {
     "end_time": "2022-07-01T03:43:51.963716Z",
     "start_time": "2022-07-01T03:43:51.944769Z"
    }
   },
   "outputs": [],
   "source": [
    "import pandas as pd\n",
    "import itertools\n",
    "import numpy as np\n",
    "from tqdm import tqdm\n",
    "import risk"
   ]
  },
  {
   "cell_type": "code",
   "execution_count": 4,
   "id": "5b919cc1",
   "metadata": {
    "ExecuteTime": {
     "end_time": "2022-07-01T03:48:13.224247Z",
     "start_time": "2022-07-01T03:48:13.208289Z"
    }
   },
   "outputs": [
    {
     "ename": "SyntaxError",
     "evalue": "EOL while scanning string literal (1227974144.py, line 1)",
     "output_type": "error",
     "traceback": [
      "\u001b[1;36m  Input \u001b[1;32mIn [4]\u001b[1;36m\u001b[0m\n\u001b[1;33m    raw = pd.read_csv('C:\\Users\\dblab\\Desktop\\kimsinhyun\\reIdentification\\raw_data\\ks_ptdrctor_prcttq_info.csv)\u001b[0m\n\u001b[1;37m                                                                                                               ^\u001b[0m\n\u001b[1;31mSyntaxError\u001b[0m\u001b[1;31m:\u001b[0m EOL while scanning string literal\n"
     ]
    }
   ],
   "source": [
    "raw = pd.read_csv('C:\\Users\\dblab\\Desktop\\kimsinhyun\\reIdentification\\raw_data\\ks_ptdrctor_prcttq_info.csv)\n",
    "raw"
   ]
  },
  {
   "cell_type": "code",
   "execution_count": null,
   "id": "d28b8c38",
   "metadata": {},
   "outputs": [],
   "source": []
  }
 ],
 "metadata": {
  "kernelspec": {
   "display_name": "Python 3 (ipykernel)",
   "language": "python",
   "name": "python3"
  },
  "language_info": {
   "codemirror_mode": {
    "name": "ipython",
    "version": 3
   },
   "file_extension": ".py",
   "mimetype": "text/x-python",
   "name": "python",
   "nbconvert_exporter": "python",
   "pygments_lexer": "ipython3",
   "version": "3.8.8"
  },
  "toc": {
   "base_numbering": 1,
   "nav_menu": {},
   "number_sections": true,
   "sideBar": true,
   "skip_h1_title": false,
   "title_cell": "Table of Contents",
   "title_sidebar": "Contents",
   "toc_cell": false,
   "toc_position": {},
   "toc_section_display": true,
   "toc_window_display": false
  }
 },
 "nbformat": 4,
 "nbformat_minor": 5
}
