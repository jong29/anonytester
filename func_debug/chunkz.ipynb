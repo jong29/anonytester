{
 "cells": [
  {
   "cell_type": "code",
   "execution_count": 1,
   "id": "6e52f736",
   "metadata": {
    "ExecuteTime": {
     "end_time": "2022-09-08T05:32:06.963130Z",
     "start_time": "2022-09-08T05:32:01.569225Z"
    }
   },
   "outputs": [],
   "source": [
    "import risk_syn\n",
    "import similarity\n",
    "import synthetic_reidentified\n",
    "import preprocessing\n",
    "import pandas as pd"
   ]
  },
  {
   "cell_type": "code",
   "execution_count": null,
   "id": "98489f6e",
   "metadata": {
    "ExecuteTime": {
     "end_time": "2022-09-07T01:58:00.428889Z",
     "start_time": "2022-09-07T01:58:00.417896Z"
    }
   },
   "outputs": [],
   "source": [
    "syn_chunkz = pd.read_csv(\"writing_high_3_debug.csv\", encoding='utf-8', chunksize=100)"
   ]
  },
  {
   "cell_type": "code",
   "execution_count": 17,
   "id": "2dcff8e9",
   "metadata": {
    "ExecuteTime": {
     "end_time": "2022-09-08T05:34:21.535493Z",
     "start_time": "2022-09-08T05:34:21.520506Z"
    }
   },
   "outputs": [],
   "source": [
    "# read synthetic data with skiprows\n",
    "syn_chunkz = pd.read_csv(\"writing_high_3_debug.csv\", encoding='utf-8',\\\n",
    "                         skiprows=range(1,500), chunksize=3000)"
   ]
  },
  {
   "cell_type": "code",
   "execution_count": 13,
   "id": "a9ec768b",
   "metadata": {
    "ExecuteTime": {
     "end_time": "2022-09-08T05:33:45.711976Z",
     "start_time": "2022-09-08T05:33:45.703997Z"
    }
   },
   "outputs": [],
   "source": [
    "def process_chunk(chunk):\n",
    "    chunk = chunk.drop('an_usr_no', axis=1)\n",
    "    prep_syn= preprocessing.preprocessing_syn(chunk)\n",
    "    start = prep_syn.index[0]\n",
    "    end = prep_syn.index[-1]\n",
    "    print(f\"start: {start}\")\n",
    "    print(f\"end: {end}\")\n",
    "    \n",
    "    raw_chunk = pd.read_csv(\"z_ptdrctor_wrtng_debug.csv\", encoding='utf-8', skiprows=range(1,start-1), nrows =end-start)\n",
    "    raw_chunk = raw_chunk.drop('USR_NO', axis=1)\n",
    "    prep_raw = preprocessing.preprocessing_raw(raw_chunk)\n",
    "    \n",
    "#     print(\"Raw\")\n",
    "#     print(prep_raw)\n",
    "    \n",
    "#     print(\"Synthetic\")\n",
    "#     print(prep_syn)\n",
    "    \n",
    "    \n",
    "    # 재식별 위험도\n",
    "    _, _, _, syn_table = risk_syn.compute_risk(prep_syn.copy())\n",
    "    print(\"위험도\")\n",
    "    print(syn_table)\n",
    "    \n",
    "#     # 유사도\n",
    "#     _, _, _, table_similarity = similarity.similarity(prep_raw, prep_syn, apply_hierarchy=False)\n",
    "#     print(\"유사도\")\n",
    "#     print(table_similarity)\n",
    "    \n",
    "#     # 재식별도\n",
    "    syn_reidentified, _ = synthetic_reidentified.syn_reidentified_datas(\\\n",
    "        prep_raw.copy(), prep_syn.copy(), K=-1, start_dim=1, end_dim=-1)\n",
    "\n",
    "    print(\"재식별 레코드\")\n",
    "    print(syn_reidentified)\n",
    "    "
   ]
  },
  {
   "cell_type": "code",
   "execution_count": 18,
   "id": "c2be251a",
   "metadata": {
    "ExecuteTime": {
     "end_time": "2022-09-08T05:34:25.128413Z",
     "start_time": "2022-09-08T05:34:23.279847Z"
    },
    "scrolled": false
   },
   "outputs": [
    {
     "name": "stdout",
     "output_type": "stream",
     "text": [
      "start: 651\n",
      "end: 4036\n",
      "위험도\n",
      "                 mean       std       max       min\n",
      "테이블 재식별 위험도  0.494454  0.047419  0.634295  0.401342\n",
      "재식별 레코드\n",
      "Empty DataFrame\n",
      "Columns: []\n",
      "Index: []\n",
      "start: 4037\n",
      "end: 7445\n",
      "위험도\n",
      "                 mean       std       max       min\n",
      "테이블 재식별 위험도  0.494475  0.046073  0.741747  0.402926\n",
      "재식별 레코드\n",
      "Empty DataFrame\n",
      "Columns: []\n",
      "Index: []\n"
     ]
    }
   ],
   "source": [
    "ctr = 0\n",
    "for chunk in syn_chunkz:\n",
    "    if ctr == 2: break\n",
    "#     print_chunks(chunk)\n",
    "    process_chunk(chunk)\n",
    "#     break\n",
    "    ctr += 1"
   ]
  },
  {
   "cell_type": "code",
   "execution_count": null,
   "id": "16b74613",
   "metadata": {},
   "outputs": [],
   "source": []
  }
 ],
 "metadata": {
  "kernelspec": {
   "display_name": "Python 3 (ipykernel)",
   "language": "python",
   "name": "python3"
  },
  "language_info": {
   "codemirror_mode": {
    "name": "ipython",
    "version": 3
   },
   "file_extension": ".py",
   "mimetype": "text/x-python",
   "name": "python",
   "nbconvert_exporter": "python",
   "pygments_lexer": "ipython3",
   "version": "3.8.8"
  },
  "toc": {
   "base_numbering": 1,
   "nav_menu": {},
   "number_sections": true,
   "sideBar": true,
   "skip_h1_title": false,
   "title_cell": "Table of Contents",
   "title_sidebar": "Contents",
   "toc_cell": false,
   "toc_position": {},
   "toc_section_display": true,
   "toc_window_display": false
  }
 },
 "nbformat": 4,
 "nbformat_minor": 5
}
