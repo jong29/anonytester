{
 "cells": [
  {
   "cell_type": "code",
   "execution_count": 20,
   "id": "6e52f736",
   "metadata": {
    "ExecuteTime": {
     "end_time": "2022-09-07T01:58:00.307579Z",
     "start_time": "2022-09-07T01:58:00.289536Z"
    }
   },
   "outputs": [],
   "source": [
    "import risk_syn\n",
    "import similarity\n",
    "import synthetic_reidentified\n",
    "import preprocessing\n",
    "import pandas as pd"
   ]
  },
  {
   "cell_type": "code",
   "execution_count": 21,
   "id": "98489f6e",
   "metadata": {
    "ExecuteTime": {
     "end_time": "2022-09-07T01:58:00.428889Z",
     "start_time": "2022-09-07T01:58:00.417896Z"
    }
   },
   "outputs": [],
   "source": [
    "syn_chunkz = pd.read_csv(\"writing_high_3_debug.csv\", encoding='utf-8', chunksize=100)"
   ]
  },
  {
   "cell_type": "code",
   "execution_count": null,
   "id": "2dcff8e9",
   "metadata": {
    "ExecuteTime": {
     "end_time": "2022-09-06T08:22:53.568499Z",
     "start_time": "2022-09-06T08:22:53.539577Z"
    }
   },
   "outputs": [],
   "source": [
    "# read synthetic data with skiprows\n",
    "syn_chunkz = pd.read_csv(\"brain_high_3_bench2.csv\", encoding='utf-8',\\\n",
    "                         skiprows=range(1,100), chunksize=100)"
   ]
  },
  {
   "cell_type": "code",
   "execution_count": 28,
   "id": "a9ec768b",
   "metadata": {
    "ExecuteTime": {
     "end_time": "2022-09-07T02:24:23.298214Z",
     "start_time": "2022-09-07T02:24:23.289239Z"
    }
   },
   "outputs": [],
   "source": [
    "def process_chunk(chunk):\n",
    "    chunk = chunk.drop('an_usr_no', axis=1)\n",
    "    prep_syn= preprocessing.preprocessing_syn(chunk)\n",
    "    start = prep_syn.index[0]\n",
    "    end = prep_syn.index[-1]\n",
    "    print(f\"start: {start}\")\n",
    "    print(f\"end: {end}\")\n",
    "    \n",
    "    raw_chunk = pd.read_csv(\"z_ptdrctor_wrtng_debug.csv\", encoding='utf-8', skiprows=range(1,start-1), nrows =end-start)\n",
    "    raw_chunk = raw_chunk.drop('USR_NO', axis=1)\n",
    "    prep_raw = preprocessing.preprocessing_raw(raw_chunk)\n",
    "    \n",
    "    print(\"Raw\")\n",
    "    print(prep_raw)\n",
    "    \n",
    "    print(\"Synthetic\")\n",
    "    print(prep_syn)\n",
    "    \n",
    "    \n",
    "#     # 재식별 위험도\n",
    "#     _, _, _, syn_table = risk_syn.compute_risk(prep_syn.copy())\n",
    "#     print(\"위험도\")\n",
    "#     print(syn_table)\n",
    "    \n",
    "    # 유사도\n",
    "    _, _, _, table_similarity = similarity.similarity(prep_raw, prep_syn, apply_hierarchy=False)\n",
    "    print(\"유사도\")\n",
    "    print(table_similarity)\n",
    "    \n",
    "#     # 재식별도\n",
    "#     syn_reidentified, _ = synthetic_reidentified.syn_reidentified_datas(\\\n",
    "#         prep_raw.copy(), prep_syn.copy(), K=-1, start_dim=1, end_dim=-1)\n",
    "\n",
    "#     print(\"재식별 레코드\")\n",
    "#     print(syn_reidentified)\n",
    "    "
   ]
  },
  {
   "cell_type": "code",
   "execution_count": 29,
   "id": "c2be251a",
   "metadata": {
    "ExecuteTime": {
     "end_time": "2022-09-07T02:24:39.543208Z",
     "start_time": "2022-09-07T02:24:39.361345Z"
    },
    "scrolled": false
   },
   "outputs": [
    {
     "name": "stdout",
     "output_type": "stream",
     "text": [
      "start: 407\n",
      "end: 521\n",
      "Raw\n",
      "                efc_yy  qf_grade_nm cour_nm  wrdn_tot_grde wrdn_pas_div_nm  \\\n",
      "abst_row_num__                                                               \n",
      "1                 2015  2급 전문스포츠지도사    일반과정             69              과락   \n",
      "2                 2015      건강운동관리사    일반과정             70              과락   \n",
      "3                 2015  2급 생활스포츠지도사    일반과정             52             불합격   \n",
      "4                 2015  2급 전문스포츠지도사    일반과정              0             불합격   \n",
      "5                 2015      건강운동관리사    일반과정            113              합격   \n",
      "...                ...          ...     ...            ...             ...   \n",
      "110               2015      건강운동관리사    일반과정             83              과락   \n",
      "111               2015      건강운동관리사    일반과정             90              과락   \n",
      "112               2015  2급 전문스포츠지도사    일반과정             50             불합격   \n",
      "113               2015  2급 전문스포츠지도사    일반과정             74              합격   \n",
      "114               2015  1급 생활스포츠지도사    일반과정             50              합격   \n",
      "\n",
      "               fnl_pas_yn qf_itm_nm zon_nm  \n",
      "abst_row_num__                              \n",
      "1                       N        탁구    NaN  \n",
      "2                       N       NaN      -  \n",
      "3                       N   인라인스케이트     인천  \n",
      "4                       N      배드민턴    NaN  \n",
      "5                       Y       NaN      -  \n",
      "...                   ...       ...    ...  \n",
      "110                     N       NaN      -  \n",
      "111                     N       NaN      -  \n",
      "112                     N        럭비    NaN  \n",
      "113                     N      보디빌딩    NaN  \n",
      "114                     N        빙상      -  \n",
      "\n",
      "[114 rows x 8 columns]\n",
      "Synthetic\n",
      "                efc_yy   qf_grade_nm cour_nm  wrdn_tot_grde wrdn_pas_div_nm  \\\n",
      "abst_row_num__                                                                \n",
      "407               2015       건강운동관리사    일반과정         70.070              과락   \n",
      "409               2015   2급 전문스포츠지도사    일반과정          0.000             불합격   \n",
      "410               2015       건강운동관리사    일반과정        113.113              합격   \n",
      "411               2015   2급 생활스포츠지도사    일반과정         67.067              합격   \n",
      "412               2015   2급 생활스포츠지도사    일반과정         59.059             불합격   \n",
      "...                ...           ...     ...            ...             ...   \n",
      "516               2015       건강운동관리사    일반과정         90.090              과락   \n",
      "517               2015   2급 전문스포츠지도사    일반과정         50.050             불합격   \n",
      "518               2015   2급 전문스포츠지도사    일반과정         74.074              합격   \n",
      "520               2015       건강운동관리사    일반과정         97.097              합격   \n",
      "521               2015  2급 장애인스포츠지도사    일반과정         52.052             불합격   \n",
      "\n",
      "               fnl_pas_yn qf_itm_nm zon_nm  \n",
      "abst_row_num__                              \n",
      "407                     N       NaN      -  \n",
      "409                     N      배드민턴    NaN  \n",
      "410                     Y       NaN      -  \n",
      "411                     Y      배드민턴     경기  \n",
      "412                     N      에어로빅     서울  \n",
      "...                   ...       ...    ...  \n",
      "516                     N       NaN      -  \n",
      "517                     N        럭비    NaN  \n",
      "518                     N      보디빌딩    NaN  \n",
      "520                     N       NaN      -  \n",
      "521                     N        수영     서울  \n",
      "\n",
      "[100 rows x 8 columns]\n"
     ]
    },
    {
     "ename": "ValueError",
     "evalue": "Expected a 1D array, got an array with shape (0, 2)",
     "output_type": "error",
     "traceback": [
      "\u001b[1;31m---------------------------------------------------------------------------\u001b[0m",
      "\u001b[1;31mKeyError\u001b[0m                                  Traceback (most recent call last)",
      "File \u001b[1;32m~\\anaconda3\\envs\\anontest\\lib\\site-packages\\pandas\\core\\indexes\\base.py:3621\u001b[0m, in \u001b[0;36mIndex.get_loc\u001b[1;34m(self, key, method, tolerance)\u001b[0m\n\u001b[0;32m   3620\u001b[0m \u001b[38;5;28;01mtry\u001b[39;00m:\n\u001b[1;32m-> 3621\u001b[0m     \u001b[38;5;28;01mreturn\u001b[39;00m \u001b[38;5;28;43mself\u001b[39;49m\u001b[38;5;241;43m.\u001b[39;49m\u001b[43m_engine\u001b[49m\u001b[38;5;241;43m.\u001b[39;49m\u001b[43mget_loc\u001b[49m\u001b[43m(\u001b[49m\u001b[43mcasted_key\u001b[49m\u001b[43m)\u001b[49m\n\u001b[0;32m   3622\u001b[0m \u001b[38;5;28;01mexcept\u001b[39;00m \u001b[38;5;167;01mKeyError\u001b[39;00m \u001b[38;5;28;01mas\u001b[39;00m err:\n",
      "File \u001b[1;32m~\\anaconda3\\envs\\anontest\\lib\\site-packages\\pandas\\_libs\\index.pyx:136\u001b[0m, in \u001b[0;36mpandas._libs.index.IndexEngine.get_loc\u001b[1;34m()\u001b[0m\n",
      "File \u001b[1;32m~\\anaconda3\\envs\\anontest\\lib\\site-packages\\pandas\\_libs\\index.pyx:163\u001b[0m, in \u001b[0;36mpandas._libs.index.IndexEngine.get_loc\u001b[1;34m()\u001b[0m\n",
      "File \u001b[1;32mpandas\\_libs\\hashtable_class_helper.pxi:5198\u001b[0m, in \u001b[0;36mpandas._libs.hashtable.PyObjectHashTable.get_item\u001b[1;34m()\u001b[0m\n",
      "File \u001b[1;32mpandas\\_libs\\hashtable_class_helper.pxi:5206\u001b[0m, in \u001b[0;36mpandas._libs.hashtable.PyObjectHashTable.get_item\u001b[1;34m()\u001b[0m\n",
      "\u001b[1;31mKeyError\u001b[0m: 'wrdn_tot_grde'",
      "\nThe above exception was the direct cause of the following exception:\n",
      "\u001b[1;31mKeyError\u001b[0m                                  Traceback (most recent call last)",
      "File \u001b[1;32m~\\anaconda3\\envs\\anontest\\lib\\site-packages\\pandas\\core\\frame.py:3799\u001b[0m, in \u001b[0;36mDataFrame._set_item_mgr\u001b[1;34m(self, key, value)\u001b[0m\n\u001b[0;32m   3798\u001b[0m \u001b[38;5;28;01mtry\u001b[39;00m:\n\u001b[1;32m-> 3799\u001b[0m     loc \u001b[38;5;241m=\u001b[39m \u001b[38;5;28;43mself\u001b[39;49m\u001b[38;5;241;43m.\u001b[39;49m\u001b[43m_info_axis\u001b[49m\u001b[38;5;241;43m.\u001b[39;49m\u001b[43mget_loc\u001b[49m\u001b[43m(\u001b[49m\u001b[43mkey\u001b[49m\u001b[43m)\u001b[49m\n\u001b[0;32m   3800\u001b[0m \u001b[38;5;28;01mexcept\u001b[39;00m \u001b[38;5;167;01mKeyError\u001b[39;00m:\n\u001b[0;32m   3801\u001b[0m     \u001b[38;5;66;03m# This item wasn't present, just insert at end\u001b[39;00m\n",
      "File \u001b[1;32m~\\anaconda3\\envs\\anontest\\lib\\site-packages\\pandas\\core\\indexes\\base.py:3623\u001b[0m, in \u001b[0;36mIndex.get_loc\u001b[1;34m(self, key, method, tolerance)\u001b[0m\n\u001b[0;32m   3622\u001b[0m \u001b[38;5;28;01mexcept\u001b[39;00m \u001b[38;5;167;01mKeyError\u001b[39;00m \u001b[38;5;28;01mas\u001b[39;00m err:\n\u001b[1;32m-> 3623\u001b[0m     \u001b[38;5;28;01mraise\u001b[39;00m \u001b[38;5;167;01mKeyError\u001b[39;00m(key) \u001b[38;5;28;01mfrom\u001b[39;00m \u001b[38;5;21;01merr\u001b[39;00m\n\u001b[0;32m   3624\u001b[0m \u001b[38;5;28;01mexcept\u001b[39;00m \u001b[38;5;167;01mTypeError\u001b[39;00m:\n\u001b[0;32m   3625\u001b[0m     \u001b[38;5;66;03m# If we have a listlike key, _check_indexing_error will raise\u001b[39;00m\n\u001b[0;32m   3626\u001b[0m     \u001b[38;5;66;03m#  InvalidIndexError. Otherwise we fall through and re-raise\u001b[39;00m\n\u001b[0;32m   3627\u001b[0m     \u001b[38;5;66;03m#  the TypeError.\u001b[39;00m\n",
      "\u001b[1;31mKeyError\u001b[0m: 'wrdn_tot_grde'",
      "\nDuring handling of the above exception, another exception occurred:\n",
      "\u001b[1;31mValueError\u001b[0m                                Traceback (most recent call last)",
      "Input \u001b[1;32mIn [29]\u001b[0m, in \u001b[0;36m<cell line: 2>\u001b[1;34m()\u001b[0m\n\u001b[0;32m      3\u001b[0m     \u001b[38;5;28;01mif\u001b[39;00m ctr \u001b[38;5;241m==\u001b[39m \u001b[38;5;241m2\u001b[39m: \u001b[38;5;28;01mbreak\u001b[39;00m\n\u001b[0;32m      4\u001b[0m \u001b[38;5;66;03m#     print_chunks(chunk)\u001b[39;00m\n\u001b[1;32m----> 5\u001b[0m     \u001b[43mprocess_chunk\u001b[49m\u001b[43m(\u001b[49m\u001b[43mchunk\u001b[49m\u001b[43m)\u001b[49m\n\u001b[0;32m      6\u001b[0m \u001b[38;5;66;03m#     break\u001b[39;00m\n\u001b[0;32m      7\u001b[0m     ctr \u001b[38;5;241m+\u001b[39m\u001b[38;5;241m=\u001b[39m \u001b[38;5;241m1\u001b[39m\n",
      "Input \u001b[1;32mIn [28]\u001b[0m, in \u001b[0;36mprocess_chunk\u001b[1;34m(chunk)\u001b[0m\n\u001b[0;32m     17\u001b[0m     \u001b[38;5;28mprint\u001b[39m(prep_syn)\n\u001b[0;32m     20\u001b[0m \u001b[38;5;66;03m#     # 재식별 위험도\u001b[39;00m\n\u001b[0;32m     21\u001b[0m \u001b[38;5;66;03m#     _, _, _, syn_table = risk_syn.compute_risk(prep_syn.copy())\u001b[39;00m\n\u001b[0;32m     22\u001b[0m \u001b[38;5;66;03m#     print(\"위험도\")\u001b[39;00m\n\u001b[0;32m     23\u001b[0m \u001b[38;5;66;03m#     print(syn_table)\u001b[39;00m\n\u001b[0;32m     24\u001b[0m     \n\u001b[0;32m     25\u001b[0m     \u001b[38;5;66;03m# 유사도\u001b[39;00m\n\u001b[1;32m---> 26\u001b[0m     _, _, _, table_similarity \u001b[38;5;241m=\u001b[39m \u001b[43msimilarity\u001b[49m\u001b[38;5;241;43m.\u001b[39;49m\u001b[43msimilarity\u001b[49m\u001b[43m(\u001b[49m\u001b[43mprep_raw\u001b[49m\u001b[43m,\u001b[49m\u001b[43m \u001b[49m\u001b[43mprep_syn\u001b[49m\u001b[43m,\u001b[49m\u001b[43m \u001b[49m\u001b[43mapply_hierarchy\u001b[49m\u001b[38;5;241;43m=\u001b[39;49m\u001b[38;5;28;43;01mFalse\u001b[39;49;00m\u001b[43m)\u001b[49m\n\u001b[0;32m     27\u001b[0m     \u001b[38;5;28mprint\u001b[39m(\u001b[38;5;124m\"\u001b[39m\u001b[38;5;124m유사도\u001b[39m\u001b[38;5;124m\"\u001b[39m)\n\u001b[0;32m     28\u001b[0m     \u001b[38;5;28mprint\u001b[39m(table_similarity)\n",
      "File \u001b[1;32m~\\Documents\\jong\\anony_tester_app\\func_debug\\similarity.py:150\u001b[0m, in \u001b[0;36msimilarity\u001b[1;34m(raw_data, syn_data, apply_hierarchy)\u001b[0m\n\u001b[0;32m    149\u001b[0m \u001b[38;5;28;01mdef\u001b[39;00m \u001b[38;5;21msimilarity\u001b[39m(raw_data, syn_data, apply_hierarchy):\n\u001b[1;32m--> 150\u001b[0m     val_similarity_df \u001b[38;5;241m=\u001b[39m \u001b[43mval_similarity\u001b[49m\u001b[43m(\u001b[49m\u001b[43mraw_data\u001b[49m\u001b[43m,\u001b[49m\u001b[43msyn_data\u001b[49m\u001b[43m,\u001b[49m\u001b[43mapply_hierarchy\u001b[49m\u001b[43m)\u001b[49m\n\u001b[0;32m    151\u001b[0m     attr_similarity_df \u001b[38;5;241m=\u001b[39m attr_simiarlity(val_similarity_df)\n\u001b[0;32m    152\u001b[0m     record_similarity_df \u001b[38;5;241m=\u001b[39m record_similarity(val_similarity_df)\n",
      "File \u001b[1;32m~\\Documents\\jong\\anony_tester_app\\func_debug\\similarity.py:113\u001b[0m, in \u001b[0;36mval_similarity\u001b[1;34m(raw_data, syn_data, apply_hierarchy)\u001b[0m\n\u001b[0;32m    109\u001b[0m \u001b[38;5;28;01melse\u001b[39;00m:\n\u001b[0;32m    110\u001b[0m     \u001b[38;5;66;03m# with st.spinner(\"수치형 데이터 계산중...\"):\u001b[39;00m\n\u001b[0;32m    111\u001b[0m         \u001b[38;5;66;03m# num_loop = stqdm(list(numeric_cols))\u001b[39;00m\n\u001b[0;32m    112\u001b[0m     \u001b[38;5;28;01mfor\u001b[39;00m col \u001b[38;5;129;01min\u001b[39;00m \u001b[38;5;28mlist\u001b[39m(numeric_cols):\n\u001b[1;32m--> 113\u001b[0m         similarity_df[col] \u001b[38;5;241m=\u001b[39m similarity_df[[col\u001b[38;5;241m+\u001b[39m\u001b[38;5;124m\"\u001b[39m\u001b[38;5;124m_x\u001b[39m\u001b[38;5;124m\"\u001b[39m,col\u001b[38;5;241m+\u001b[39m\u001b[38;5;124m\"\u001b[39m\u001b[38;5;124m_y\u001b[39m\u001b[38;5;124m\"\u001b[39m]]\u001b[38;5;241m.\u001b[39mapply(numeric_similarity, args\u001b[38;5;241m=\u001b[39m(similarity_df[col\u001b[38;5;241m+\u001b[39m\u001b[38;5;124m\"\u001b[39m\u001b[38;5;124m_x\u001b[39m\u001b[38;5;124m\"\u001b[39m]\u001b[38;5;241m.\u001b[39mmax(),similarity_df[col\u001b[38;5;241m+\u001b[39m\u001b[38;5;124m\"\u001b[39m\u001b[38;5;124m_x\u001b[39m\u001b[38;5;124m\"\u001b[39m]\u001b[38;5;241m.\u001b[39mmin()), axis\u001b[38;5;241m=\u001b[39m\u001b[38;5;241m1\u001b[39m)\n\u001b[0;32m    114\u001b[0m     \u001b[38;5;66;03m# with st.spinner(\"범주형 데이터 계산중...\"):\u001b[39;00m\n\u001b[0;32m    115\u001b[0m         \u001b[38;5;66;03m# cat_loop = stqdm(list(category_cols))\u001b[39;00m\n\u001b[0;32m    116\u001b[0m     \u001b[38;5;28;01mfor\u001b[39;00m col \u001b[38;5;129;01min\u001b[39;00m \u001b[38;5;28mlist\u001b[39m(category_cols):\n",
      "File \u001b[1;32m~\\anaconda3\\envs\\anontest\\lib\\site-packages\\pandas\\core\\frame.py:3645\u001b[0m, in \u001b[0;36mDataFrame.__setitem__\u001b[1;34m(self, key, value)\u001b[0m\n\u001b[0;32m   3643\u001b[0m     \u001b[38;5;28mself\u001b[39m\u001b[38;5;241m.\u001b[39m_setitem_array(key, value)\n\u001b[0;32m   3644\u001b[0m \u001b[38;5;28;01melif\u001b[39;00m \u001b[38;5;28misinstance\u001b[39m(value, DataFrame):\n\u001b[1;32m-> 3645\u001b[0m     \u001b[38;5;28;43mself\u001b[39;49m\u001b[38;5;241;43m.\u001b[39;49m\u001b[43m_set_item_frame_value\u001b[49m\u001b[43m(\u001b[49m\u001b[43mkey\u001b[49m\u001b[43m,\u001b[49m\u001b[43m \u001b[49m\u001b[43mvalue\u001b[49m\u001b[43m)\u001b[49m\n\u001b[0;32m   3646\u001b[0m \u001b[38;5;28;01melif\u001b[39;00m (\n\u001b[0;32m   3647\u001b[0m     is_list_like(value)\n\u001b[0;32m   3648\u001b[0m     \u001b[38;5;129;01mand\u001b[39;00m \u001b[38;5;129;01mnot\u001b[39;00m \u001b[38;5;28mself\u001b[39m\u001b[38;5;241m.\u001b[39mcolumns\u001b[38;5;241m.\u001b[39mis_unique\n\u001b[0;32m   3649\u001b[0m     \u001b[38;5;129;01mand\u001b[39;00m \u001b[38;5;241m1\u001b[39m \u001b[38;5;241m<\u001b[39m \u001b[38;5;28mlen\u001b[39m(\u001b[38;5;28mself\u001b[39m\u001b[38;5;241m.\u001b[39mcolumns\u001b[38;5;241m.\u001b[39mget_indexer_for([key])) \u001b[38;5;241m==\u001b[39m \u001b[38;5;28mlen\u001b[39m(value)\n\u001b[0;32m   3650\u001b[0m ):\n\u001b[0;32m   3651\u001b[0m     \u001b[38;5;66;03m# Column to set is duplicated\u001b[39;00m\n\u001b[0;32m   3652\u001b[0m     \u001b[38;5;28mself\u001b[39m\u001b[38;5;241m.\u001b[39m_setitem_array([key], value)\n",
      "File \u001b[1;32m~\\anaconda3\\envs\\anontest\\lib\\site-packages\\pandas\\core\\frame.py:3788\u001b[0m, in \u001b[0;36mDataFrame._set_item_frame_value\u001b[1;34m(self, key, value)\u001b[0m\n\u001b[0;32m   3786\u001b[0m \u001b[38;5;66;03m# now align rows\u001b[39;00m\n\u001b[0;32m   3787\u001b[0m arraylike \u001b[38;5;241m=\u001b[39m _reindex_for_setitem(value, \u001b[38;5;28mself\u001b[39m\u001b[38;5;241m.\u001b[39mindex)\n\u001b[1;32m-> 3788\u001b[0m \u001b[38;5;28;43mself\u001b[39;49m\u001b[38;5;241;43m.\u001b[39;49m\u001b[43m_set_item_mgr\u001b[49m\u001b[43m(\u001b[49m\u001b[43mkey\u001b[49m\u001b[43m,\u001b[49m\u001b[43m \u001b[49m\u001b[43marraylike\u001b[49m\u001b[43m)\u001b[49m\n",
      "File \u001b[1;32m~\\anaconda3\\envs\\anontest\\lib\\site-packages\\pandas\\core\\frame.py:3802\u001b[0m, in \u001b[0;36mDataFrame._set_item_mgr\u001b[1;34m(self, key, value)\u001b[0m\n\u001b[0;32m   3799\u001b[0m     loc \u001b[38;5;241m=\u001b[39m \u001b[38;5;28mself\u001b[39m\u001b[38;5;241m.\u001b[39m_info_axis\u001b[38;5;241m.\u001b[39mget_loc(key)\n\u001b[0;32m   3800\u001b[0m \u001b[38;5;28;01mexcept\u001b[39;00m \u001b[38;5;167;01mKeyError\u001b[39;00m:\n\u001b[0;32m   3801\u001b[0m     \u001b[38;5;66;03m# This item wasn't present, just insert at end\u001b[39;00m\n\u001b[1;32m-> 3802\u001b[0m     \u001b[38;5;28;43mself\u001b[39;49m\u001b[38;5;241;43m.\u001b[39;49m\u001b[43m_mgr\u001b[49m\u001b[38;5;241;43m.\u001b[39;49m\u001b[43minsert\u001b[49m\u001b[43m(\u001b[49m\u001b[38;5;28;43mlen\u001b[39;49m\u001b[43m(\u001b[49m\u001b[38;5;28;43mself\u001b[39;49m\u001b[38;5;241;43m.\u001b[39;49m\u001b[43m_info_axis\u001b[49m\u001b[43m)\u001b[49m\u001b[43m,\u001b[49m\u001b[43m \u001b[49m\u001b[43mkey\u001b[49m\u001b[43m,\u001b[49m\u001b[43m \u001b[49m\u001b[43mvalue\u001b[49m\u001b[43m)\u001b[49m\n\u001b[0;32m   3803\u001b[0m \u001b[38;5;28;01melse\u001b[39;00m:\n\u001b[0;32m   3804\u001b[0m     \u001b[38;5;28mself\u001b[39m\u001b[38;5;241m.\u001b[39m_iset_item_mgr(loc, value)\n",
      "File \u001b[1;32m~\\anaconda3\\envs\\anontest\\lib\\site-packages\\pandas\\core\\internals\\managers.py:1235\u001b[0m, in \u001b[0;36mBlockManager.insert\u001b[1;34m(self, loc, item, value)\u001b[0m\n\u001b[0;32m   1233\u001b[0m     value \u001b[38;5;241m=\u001b[39m value\u001b[38;5;241m.\u001b[39mT\n\u001b[0;32m   1234\u001b[0m     \u001b[38;5;28;01mif\u001b[39;00m \u001b[38;5;28mlen\u001b[39m(value) \u001b[38;5;241m>\u001b[39m \u001b[38;5;241m1\u001b[39m:\n\u001b[1;32m-> 1235\u001b[0m         \u001b[38;5;28;01mraise\u001b[39;00m \u001b[38;5;167;01mValueError\u001b[39;00m(\n\u001b[0;32m   1236\u001b[0m             \u001b[38;5;124mf\u001b[39m\u001b[38;5;124m\"\u001b[39m\u001b[38;5;124mExpected a 1D array, got an array with shape \u001b[39m\u001b[38;5;132;01m{\u001b[39;00mvalue\u001b[38;5;241m.\u001b[39mT\u001b[38;5;241m.\u001b[39mshape\u001b[38;5;132;01m}\u001b[39;00m\u001b[38;5;124m\"\u001b[39m\n\u001b[0;32m   1237\u001b[0m         )\n\u001b[0;32m   1238\u001b[0m \u001b[38;5;28;01melse\u001b[39;00m:\n\u001b[0;32m   1239\u001b[0m     value \u001b[38;5;241m=\u001b[39m ensure_block_shape(value, ndim\u001b[38;5;241m=\u001b[39m\u001b[38;5;28mself\u001b[39m\u001b[38;5;241m.\u001b[39mndim)\n",
      "\u001b[1;31mValueError\u001b[0m: Expected a 1D array, got an array with shape (0, 2)"
     ]
    }
   ],
   "source": [
    "ctr = 0\n",
    "for chunk in syn_chunkz:\n",
    "    if ctr == 2: break\n",
    "#     print_chunks(chunk)\n",
    "    process_chunk(chunk)\n",
    "#     break\n",
    "    ctr += 1"
   ]
  },
  {
   "cell_type": "code",
   "execution_count": null,
   "id": "16b74613",
   "metadata": {},
   "outputs": [],
   "source": []
  }
 ],
 "metadata": {
  "kernelspec": {
   "display_name": "Python 3 (ipykernel)",
   "language": "python",
   "name": "python3"
  },
  "language_info": {
   "codemirror_mode": {
    "name": "ipython",
    "version": 3
   },
   "file_extension": ".py",
   "mimetype": "text/x-python",
   "name": "python",
   "nbconvert_exporter": "python",
   "pygments_lexer": "ipython3",
   "version": "3.8.8"
  },
  "toc": {
   "base_numbering": 1,
   "nav_menu": {},
   "number_sections": true,
   "sideBar": true,
   "skip_h1_title": false,
   "title_cell": "Table of Contents",
   "title_sidebar": "Contents",
   "toc_cell": false,
   "toc_position": {},
   "toc_section_display": true,
   "toc_window_display": false
  }
 },
 "nbformat": 4,
 "nbformat_minor": 5
}
